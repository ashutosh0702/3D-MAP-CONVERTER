{
 "cells": [
  {
   "cell_type": "code",
   "execution_count": 1,
   "id": "b1f2745a",
   "metadata": {},
   "outputs": [],
   "source": [
    "import sys\n",
    "import os\n",
    "\n",
    "sys.path.append(os.path.abspath(os.path.join(os.getcwd(), '..')))\n",
    "\n",
    "\n",
    "\n",
    "from src.map_viewer import MapViewer\n",
    "from src.data_fetcher import DataFetcher\n",
    "from src.renderer import Renderer\n",
    "import geopandas as gpd"
   ]
  },
  {
   "cell_type": "code",
   "execution_count": 2,
   "id": "2d96edad",
   "metadata": {},
   "outputs": [
    {
     "data": {
      "application/vnd.jupyter.widget-view+json": {
       "model_id": "f5ec2e87fbc24610bfb05f6ae114f3c1",
       "version_major": 2,
       "version_minor": 0
      },
      "text/plain": [
       "Map(center=[26.1445, 91.7362], controls=(ZoomControl(options=['position', 'zoom_in_text', 'zoom_in_title', 'zo…"
      ]
     },
     "execution_count": 2,
     "metadata": {},
     "output_type": "execute_result"
    }
   ],
   "source": [
    "# Step 1: Launch map viewer and get bbox\n",
    "viewer = MapViewer()\n",
    "viewer.show()"
   ]
  },
  {
   "cell_type": "code",
   "execution_count": 3,
   "id": "b4c2675d",
   "metadata": {},
   "outputs": [
    {
     "name": "stdout",
     "output_type": "stream",
     "text": [
      "Selected bbox : None\n"
     ]
    }
   ],
   "source": [
    "\n",
    "\n",
    "\n",
    "bbox = viewer.get_bbox()\n",
    "print(f\"Selected bbox : {bbox}\")\n",
    "\n",
    "\n"
   ]
  },
  {
   "cell_type": "code",
   "execution_count": 4,
   "id": "b66220aa",
   "metadata": {},
   "outputs": [
    {
     "name": "stdout",
     "output_type": "stream",
     "text": [
      "Fetching OSM features for: 26.155 26.135 91.745 91.725\n",
      "Fetching DEM features for: 26.155 26.135 91.745 91.725\n",
      "make: Nothing to be done for `download'.\n",
      "gdalbuildvrt -q -overwrite SRTM1.vrt \n"
     ]
    },
    {
     "name": "stderr",
     "output_type": "stream",
     "text": [
      "ERROR 1: No input dataset specified.\n",
      "Usage: gdalbuildvrt [--help] [--long-usage] [--help-general]\n",
      "                    [--quiet]\n",
      "                    [[-strict]|[-non_strict]]\n",
      "                    [-tile_index <field_name>]\n",
      "                    [-resolution user|average|common|highest|lowest|same]\n",
      "                    [-tr <xres> <yes>] [-input_file_list <filename>] [-separate]\n",
      "                    [-allow_projection_difference] [-sd <n>] [-tap]\n",
      "                    [-te <xmin> <ymin> <xmax> <ymax>] [-addalpha] [-b <band>]...\n",
      "                    [-hidenodata] [-overwrite]\n",
      "                    [-srcnodata \"<value>[ <value>]...\"]\n",
      "                    [-vrtnodata \"<value>[ <value>]...\"] [-a_srs <srs_def>]\n",
      "                    [-r nearest|bilinear|cubic|cubicspline|lanczos|average|mode]\n",
      "                    [-oo <NAME>=<VALUE>]... [-co <NAME>=<VALUE>]...\n",
      "                    [-ignore_srcmaskband]\n",
      "                    [-nodata_max_mask_threshold <threshold>]\n",
      "                    <vrt_dataset_name> [<src_dataset_name>]...\n",
      "make: *** [SRTM1.vrt] Error 1\n"
     ]
    },
    {
     "ename": "CalledProcessError",
     "evalue": "Command 'make -C /Users/ashutoshbaruah/Library/Caches/elevation/SRTM1 all ' returned non-zero exit status 2.",
     "output_type": "error",
     "traceback": [
      "\u001b[31m---------------------------------------------------------------------------\u001b[39m",
      "\u001b[31mCalledProcessError\u001b[39m                        Traceback (most recent call last)",
      "\u001b[36mCell\u001b[39m\u001b[36m \u001b[39m\u001b[32mIn[4]\u001b[39m\u001b[32m, line 5\u001b[39m\n\u001b[32m      3\u001b[39m fetcher = DataFetcher(bbox)\n\u001b[32m      4\u001b[39m osm_data = fetcher.fetch_osm_features()\n\u001b[32m----> \u001b[39m\u001b[32m5\u001b[39m dem_path = \u001b[43mfetcher\u001b[49m\u001b[43m.\u001b[49m\u001b[43mfetch_dem\u001b[49m\u001b[43m(\u001b[49m\u001b[43m)\u001b[49m\n",
      "\u001b[36mFile \u001b[39m\u001b[32m~/Documents/dev/3D-map-converter/src/data_fetcher.py:37\u001b[39m, in \u001b[36mDataFetcher.fetch_dem\u001b[39m\u001b[34m(self, output_path)\u001b[39m\n\u001b[32m     35\u001b[39m os.makedirs(os.path.dirname(output_path), exist_ok=\u001b[38;5;28;01mTrue\u001b[39;00m)\n\u001b[32m     36\u001b[39m \u001b[38;5;28;01mif\u001b[39;00m \u001b[38;5;129;01mnot\u001b[39;00m os.path.exists(output_path):\n\u001b[32m---> \u001b[39m\u001b[32m37\u001b[39m     \u001b[43melevation\u001b[49m\u001b[43m.\u001b[49m\u001b[43mclip\u001b[49m\u001b[43m(\u001b[49m\u001b[43mbounds\u001b[49m\u001b[43m=\u001b[49m\u001b[43m(\u001b[49m\u001b[38;5;28;43mself\u001b[39;49m\u001b[43m.\u001b[49m\u001b[43mwest\u001b[49m\u001b[43m,\u001b[49m\u001b[43m \u001b[49m\u001b[38;5;28;43mself\u001b[39;49m\u001b[43m.\u001b[49m\u001b[43msouth\u001b[49m\u001b[43m,\u001b[49m\u001b[43m \u001b[49m\u001b[38;5;28;43mself\u001b[39;49m\u001b[43m.\u001b[49m\u001b[43meast\u001b[49m\u001b[43m,\u001b[49m\u001b[43m \u001b[49m\u001b[38;5;28;43mself\u001b[39;49m\u001b[43m.\u001b[49m\u001b[43mnorth\u001b[49m\u001b[43m)\u001b[49m\u001b[43m,\u001b[49m\u001b[43m \u001b[49m\u001b[43moutput\u001b[49m\u001b[43m=\u001b[49m\u001b[43moutput_path\u001b[49m\u001b[43m)\u001b[49m\n\u001b[32m     38\u001b[39m \u001b[38;5;28;01mreturn\u001b[39;00m output_path\n",
      "\u001b[36mFile \u001b[39m\u001b[32m~/Documents/dev/3D-map-converter/venv/lib/python3.11/site-packages/elevation/datasource.py:216\u001b[39m, in \u001b[36mclip\u001b[39m\u001b[34m(bounds, output, margin, **kwargs)\u001b[39m\n\u001b[32m    207\u001b[39m \u001b[38;5;250m\u001b[39m\u001b[33;03m\"\"\"Clip the DEM to given bounds.\u001b[39;00m\n\u001b[32m    208\u001b[39m \n\u001b[32m    209\u001b[39m \u001b[33;03m:param bounds: Output bounds in 'left bottom right top' order.\u001b[39;00m\n\u001b[32m   (...)\u001b[39m\u001b[32m    213\u001b[39m \u001b[33;03m:param product: DEM product choice.\u001b[39;00m\n\u001b[32m    214\u001b[39m \u001b[33;03m\"\"\"\u001b[39;00m\n\u001b[32m    215\u001b[39m bounds = build_bounds(bounds, margin=margin)\n\u001b[32m--> \u001b[39m\u001b[32m216\u001b[39m datasource_root = \u001b[43mseed\u001b[49m\u001b[43m(\u001b[49m\u001b[43mbounds\u001b[49m\u001b[43m=\u001b[49m\u001b[43mbounds\u001b[49m\u001b[43m,\u001b[49m\u001b[43m \u001b[49m\u001b[43m*\u001b[49m\u001b[43m*\u001b[49m\u001b[43mkwargs\u001b[49m\u001b[43m)\u001b[49m\n\u001b[32m    217\u001b[39m do_clip(datasource_root, bounds, output, **kwargs)\n",
      "\u001b[36mFile \u001b[39m\u001b[32m~/Documents/dev/3D-map-converter/venv/lib/python3.11/site-packages/elevation/datasource.py:191\u001b[39m, in \u001b[36mseed\u001b[39m\u001b[34m(cache_dir, product, bounds, max_download_tiles, **kwargs)\u001b[39m\n\u001b[32m    188\u001b[39m     ensure_tiles(datasource_root, ensure_tiles_names, **kwargs)\n\u001b[32m    190\u001b[39m \u001b[38;5;28;01mwith\u001b[39;00m util.lock_vrt(datasource_root, product):\n\u001b[32m--> \u001b[39m\u001b[32m191\u001b[39m     \u001b[43mutil\u001b[49m\u001b[43m.\u001b[49m\u001b[43mcheck_call_make\u001b[49m\u001b[43m(\u001b[49m\u001b[43mdatasource_root\u001b[49m\u001b[43m,\u001b[49m\u001b[43m \u001b[49m\u001b[43mtargets\u001b[49m\u001b[43m=\u001b[49m\u001b[43m[\u001b[49m\u001b[33;43m'\u001b[39;49m\u001b[33;43mall\u001b[39;49m\u001b[33;43m'\u001b[39;49m\u001b[43m]\u001b[49m\u001b[43m)\u001b[49m\n\u001b[32m    192\u001b[39m \u001b[38;5;28;01mreturn\u001b[39;00m datasource_root\n",
      "\u001b[36mFile \u001b[39m\u001b[32m~/Documents/dev/3D-map-converter/venv/lib/python3.11/site-packages/elevation/util.py:88\u001b[39m, in \u001b[36mcheck_call_make\u001b[39m\u001b[34m(path, targets, variables)\u001b[39m\n\u001b[32m     86\u001b[39m make_variables = \u001b[33m'\u001b[39m\u001b[33m \u001b[39m\u001b[33m'\u001b[39m.join(\u001b[33m'\u001b[39m\u001b[38;5;132;01m%s\u001b[39;00m\u001b[33m=\u001b[39m\u001b[33m\"\u001b[39m\u001b[38;5;132;01m%s\u001b[39;00m\u001b[33m\"\u001b[39m\u001b[33m'\u001b[39m % (k.upper(), v) \u001b[38;5;28;01mfor\u001b[39;00m k, v \u001b[38;5;129;01min\u001b[39;00m variables_items)\n\u001b[32m     87\u001b[39m cmd = \u001b[33m'\u001b[39m\u001b[33mmake -C \u001b[39m\u001b[38;5;132;01m{path}\u001b[39;00m\u001b[33m \u001b[39m\u001b[38;5;132;01m{make_targets}\u001b[39;00m\u001b[33m \u001b[39m\u001b[38;5;132;01m{make_variables}\u001b[39;00m\u001b[33m'\u001b[39m.format(**\u001b[38;5;28mlocals\u001b[39m())\n\u001b[32m---> \u001b[39m\u001b[32m88\u001b[39m \u001b[43msubprocess\u001b[49m\u001b[43m.\u001b[49m\u001b[43mcheck_call\u001b[49m\u001b[43m(\u001b[49m\u001b[43mcmd\u001b[49m\u001b[43m,\u001b[49m\u001b[43m \u001b[49m\u001b[43mshell\u001b[49m\u001b[43m=\u001b[49m\u001b[38;5;28;43;01mTrue\u001b[39;49;00m\u001b[43m)\u001b[49m\n\u001b[32m     89\u001b[39m \u001b[38;5;28;01mreturn\u001b[39;00m cmd\n",
      "\u001b[36mFile \u001b[39m\u001b[32m/opt/anaconda3/lib/python3.11/subprocess.py:413\u001b[39m, in \u001b[36mcheck_call\u001b[39m\u001b[34m(*popenargs, **kwargs)\u001b[39m\n\u001b[32m    411\u001b[39m     \u001b[38;5;28;01mif\u001b[39;00m cmd \u001b[38;5;129;01mis\u001b[39;00m \u001b[38;5;28;01mNone\u001b[39;00m:\n\u001b[32m    412\u001b[39m         cmd = popenargs[\u001b[32m0\u001b[39m]\n\u001b[32m--> \u001b[39m\u001b[32m413\u001b[39m     \u001b[38;5;28;01mraise\u001b[39;00m CalledProcessError(retcode, cmd)\n\u001b[32m    414\u001b[39m \u001b[38;5;28;01mreturn\u001b[39;00m \u001b[32m0\u001b[39m\n",
      "\u001b[31mCalledProcessError\u001b[39m: Command 'make -C /Users/ashutoshbaruah/Library/Caches/elevation/SRTM1 all ' returned non-zero exit status 2."
     ]
    }
   ],
   "source": [
    "# Step 2: Fetch data for selected bbox (use hardcoded bbox for testing)\n",
    "bbox = (26.155, 26.135, 91.745, 91.725)\n",
    "fetcher = DataFetcher(bbox)\n",
    "osm_data = fetcher.fetch_osm_features()\n",
    "dem_path = fetcher.fetch_dem()"
   ]
  },
  {
   "cell_type": "code",
   "execution_count": null,
   "id": "0eb22484",
   "metadata": {},
   "outputs": [],
   "source": [
    "\n",
    "\n",
    "# Step 3: Filter buildings\n",
    "buildings = osm_data[osm_data['building'].notnull() & osm_data.geometry.notnull()]\n",
    "\n",
    "# Step 4: Render 3D model\n",
    "renderer = Renderer(dem_path, buildings)\n",
    "renderer.render() "
   ]
  },
  {
   "cell_type": "code",
   "execution_count": null,
   "id": "32888fd0",
   "metadata": {},
   "outputs": [],
   "source": []
  }
 ],
 "metadata": {
  "kernelspec": {
   "display_name": "venv",
   "language": "python",
   "name": "python3"
  },
  "language_info": {
   "codemirror_mode": {
    "name": "ipython",
    "version": 3
   },
   "file_extension": ".py",
   "mimetype": "text/x-python",
   "name": "python",
   "nbconvert_exporter": "python",
   "pygments_lexer": "ipython3",
   "version": "3.11.7"
  }
 },
 "nbformat": 4,
 "nbformat_minor": 5
}
